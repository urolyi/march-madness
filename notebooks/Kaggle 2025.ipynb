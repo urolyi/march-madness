{
 "cells": [
  {
   "cell_type": "code",
   "execution_count": 5,
   "id": "daefc56e-077a-4d59-8888-38229f66ff4d",
   "metadata": {},
   "outputs": [],
   "source": [
    "import polars as pl\n",
    "import pathlib\n",
    "import sys"
   ]
  },
  {
   "cell_type": "code",
   "execution_count": 6,
   "id": "6f996051-4d2b-42c4-b757-8609e0859962",
   "metadata": {},
   "outputs": [],
   "source": [
    "sys.path.append('/Users/urolyi1/repos/march-madness')"
   ]
  },
  {
   "cell_type": "code",
   "execution_count": 7,
   "id": "9fb5da2f-993e-4c23-8267-b69bbd8bbd4c",
   "metadata": {},
   "outputs": [],
   "source": [
    "%load_ext autoreload\n",
    "%autoreload 2"
   ]
  },
  {
   "cell_type": "code",
   "execution_count": null,
   "id": "23d76cef-f8fa-4bb3-b4c7-270d2b66c473",
   "metadata": {},
   "outputs": [],
   "source": []
  },
  {
   "cell_type": "code",
   "execution_count": null,
   "id": "8b6d8733-39c0-49d5-a2fe-207a73aabba8",
   "metadata": {},
   "outputs": [],
   "source": []
  },
  {
   "cell_type": "code",
   "execution_count": null,
   "id": "d4db45c5-8646-4c4b-a0ad-4c531aae9ccb",
   "metadata": {},
   "outputs": [],
   "source": []
  },
  {
   "cell_type": "code",
   "execution_count": null,
   "id": "af29854b-c8ef-433b-bab7-d552f785f36f",
   "metadata": {},
   "outputs": [],
   "source": []
  },
  {
   "cell_type": "code",
   "execution_count": null,
   "id": "71ad6fab-bacf-4f5d-bc32-0ef14e6221f0",
   "metadata": {},
   "outputs": [],
   "source": []
  }
 ],
 "metadata": {
  "kernelspec": {
   "display_name": "Python 3 (ipykernel)",
   "language": "python",
   "name": "python3"
  },
  "language_info": {
   "codemirror_mode": {
    "name": "ipython",
    "version": 3
   },
   "file_extension": ".py",
   "mimetype": "text/x-python",
   "name": "python",
   "nbconvert_exporter": "python",
   "pygments_lexer": "ipython3",
   "version": "3.12.7"
  }
 },
 "nbformat": 4,
 "nbformat_minor": 5
}
