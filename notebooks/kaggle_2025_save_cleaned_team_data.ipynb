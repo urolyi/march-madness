{
 "cells": [
  {
   "cell_type": "code",
   "execution_count": 266,
   "id": "bf32dcae-08ca-4d1e-af94-2eb510bad166",
   "metadata": {},
   "outputs": [],
   "source": [
    "import polars as pl\n",
    "import pathlib\n",
    "import sys\n",
    "import json\n",
    "import statsmodels.api as sm\n",
    "import statsmodels.formula.api as smf\n",
    "import numpy as np\n",
    "import pandas as pd\n",
    "import xgboost as xgb\n",
    "import plotly.express as px"
   ]
  },
  {
   "cell_type": "code",
   "execution_count": 267,
   "id": "05e266f8-027c-4ee4-bb03-25025c6307ec",
   "metadata": {},
   "outputs": [],
   "source": [
    "sys.path.append('/Users/urolyi1/repos/march-madness')"
   ]
  },
  {
   "cell_type": "code",
   "execution_count": 268,
   "id": "4bc64413-5a0e-4755-abd8-c3b2ee5485a1",
   "metadata": {},
   "outputs": [],
   "source": [
    "import kaggle_2025.preprocess_data as preprocess_data\n",
    "import uro_cbb.model_utils as model_utils"
   ]
  },
  {
   "cell_type": "code",
   "execution_count": 269,
   "id": "031b3c65-2e7b-447d-861b-ec50bb661391",
   "metadata": {},
   "outputs": [
    {
     "name": "stdout",
     "output_type": "stream",
     "text": [
      "The autoreload extension is already loaded. To reload it, use:\n",
      "  %reload_ext autoreload\n"
     ]
    }
   ],
   "source": [
    "%load_ext autoreload\n",
    "%reload_ext autoreload\n",
    "%autoreload 2"
   ]
  },
  {
   "cell_type": "code",
   "execution_count": 270,
   "id": "45c854b5-5f1f-4997-8822-63256d097214",
   "metadata": {},
   "outputs": [
    {
     "name": "stderr",
     "output_type": "stream",
     "text": [
      "ERROR:root:Missing names: {'ut rio grande valley', 'mississippi valley st.', 'arkansas pine bluff', 'southeast missouri st.', 'st. francis ny', 'bethune cookman', 'illinois chicago', 'tennessee martin', 'louisiana monroe', 'saint francis', 'cal st. bakersfield'}\n",
      "ERROR:root:Missing names: {'mississippi valley st.', 'arkansas pine bluff', 'louisiana lafayette', 'southeast missouri st.', 'st. francis ny', 'st. francis pa', 'bethune cookman', 'illinois chicago', 'tennessee martin', 'arkansas little rock', 'texas pan american', 'louisiana monroe', 'cal st. bakersfield'}\n",
      "ERROR:root:Missing names: {'ut rio grande valley', 'mississippi valley st.', 'arkansas pine bluff', 'southeast missouri st.', 'st. francis ny', 'bethune cookman', 'illinois chicago', 'tennessee martin', 'louisiana monroe', 'saint francis', 'cal st. bakersfield'}\n",
      "ERROR:root:Missing names: {'ut rio grande valley', 'mississippi valley st.', 'arkansas pine bluff', 'louisiana lafayette', 'southeast missouri st.', 'st. francis ny', 'st. francis pa', 'bethune cookman', 'illinois chicago', 'tennessee martin', 'arkansas little rock', 'louisiana monroe', 'cal st. bakersfield'}\n",
      "ERROR:root:Missing names: {'ut rio grande valley', 'mississippi valley st.', 'arkansas pine bluff', 'southeast missouri st.', 'st. francis ny', 'bethune cookman', 'illinois chicago', 'tennessee martin', 'louisiana monroe', 'saint francis', 'cal st. bakersfield'}\n",
      "ERROR:root:Missing names: {'ut rio grande valley', 'mississippi valley st.', 'arkansas pine bluff', 'southeast missouri st.', 'st. francis ny', 'bethune cookman', 'illinois chicago', 'tennessee martin', 'louisiana monroe', 'saint francis', 'cal st. bakersfield'}\n",
      "ERROR:root:Missing names: {'ut rio grande valley', 'mississippi valley st.', 'arkansas pine bluff', 'louisiana lafayette', 'southeast missouri st.', 'st. francis ny', 'st. francis pa', 'bethune cookman', 'illinois chicago', 'tennessee martin', 'louisiana monroe', 'cal st. bakersfield'}\n",
      "ERROR:root:Missing names: {'ut rio grande valley', 'mississippi valley st.', 'arkansas pine bluff', 'southeast missouri st.', 'st. francis ny', 'bethune cookman', 'illinois chicago', 'tennessee martin', 'louisiana monroe', 'saint francis', 'cal st. bakersfield'}\n",
      "ERROR:root:Missing names: {'ut rio grande valley', 'mississippi valley st.', 'arkansas pine bluff', 'southeast missouri st.', 'st. francis ny', 'st. francis pa', 'bethune cookman', 'illinois chicago', 'tennessee martin', 'louisiana monroe', 'cal st. bakersfield'}\n",
      "ERROR:root:Missing names: {'ut rio grande valley', 'mississippi valley st.', 'arkansas pine bluff', 'southeast missouri st.', 'st. francis ny', 'tarleton st.', 'illinois chicago', 'tennessee martin', 'louisiana monroe', 'saint francis', 'cal st. bakersfield'}\n",
      "ERROR:root:Missing names: {'ut rio grande valley', 'mississippi valley st.', 'arkansas pine bluff', 'southeast missouri st.', 'st. francis ny', 'tarleton st.', 'bethune cookman', 'illinois chicago', 'st. francis pa', 'tennessee martin', 'dixie st.', 'louisiana monroe', 'cal st. bakersfield'}\n",
      "ERROR:root:Missing names: {'ut rio grande valley', 'mississippi valley st.', 'arkansas pine bluff', 'southeast missouri st.', 'st. francis ny', 'tarleton st.', 'bethune cookman', 'illinois chicago', 'tennessee martin', 'louisiana monroe', 'saint francis', 'cal st. bakersfield'}\n",
      "ERROR:root:Missing names: {'ut rio grande valley', 'mississippi valley st.', 'arkansas pine bluff', 'southeast missouri st.', 'st. francis ny', 'tarleton st.', 'bethune cookman', 'illinois chicago', 'st. francis pa', 'tennessee martin', 'dixie st.', 'louisiana monroe', 'cal st. bakersfield'}\n",
      "ERROR:root:Missing names: {'ut rio grande valley', 'mississippi valley st.', 'arkansas pine bluff', 'southeast missouri st.', 'st. francis ny', 'tarleton st.', 'queens', 'illinois chicago', 'texas a&m commerce', 'tennessee martin', 'bethune cookman', 'louisiana monroe', 'saint francis', 'cal st. bakersfield'}\n",
      "ERROR:root:Missing names: {'ut rio grande valley', 'mississippi valley st.', 'arkansas pine bluff', 'southeast missouri st.', 'st. francis ny', 'tarleton st.', 'queens', 'illinois chicago', 'texas a&m commerce', 'tennessee martin', 'bethune cookman', 'st. francis pa', 'louisiana monroe', 'cal st. bakersfield'}\n",
      "ERROR:root:Missing names: {'ut rio grande valley', 'mississippi valley st.', 'arkansas pine bluff', 'southeast missouri st.', 'tarleton st.', 'queens', 'illinois chicago', 'texas a&m commerce', 'tennessee martin', 'bethune cookman', 'louisiana monroe', 'saint francis', 'cal st. bakersfield'}\n",
      "ERROR:root:Missing names: {'ut rio grande valley', 'mississippi valley st.', 'arkansas pine bluff', 'southeast missouri st.', 'tarleton st.', 'queens', 'illinois chicago', 'texas a&m commerce', 'tennessee martin', 'bethune cookman', 'louisiana monroe', 'saint francis', 'cal st. bakersfield'}\n"
     ]
    }
   ],
   "source": [
    "preprocessed_dfs = {}\n",
    "for year in range(2015, 2025):\n",
    "    if year == 2020:\n",
    "        continue\n",
    "    preprocessed_dfs[year] = preprocess_data.preprocess_data(year)\n",
    "    "
   ]
  },
  {
   "cell_type": "code",
   "execution_count": 271,
   "id": "890c873b-e9fc-42ce-b8b6-03d7278f86f3",
   "metadata": {},
   "outputs": [
    {
     "name": "stderr",
     "output_type": "stream",
     "text": [
      "ERROR:root:Missing names: {'ut rio grande valley', 'mississippi valley st.', 'arkansas pine bluff', 'southeast missouri st.', 'tarleton st.', 'queens', 'illinois chicago', 'texas a&m commerce', 'tennessee martin', 'bethune cookman', 'louisiana monroe', 'saint francis', 'cal st. bakersfield'}\n",
      "ERROR:root:Missing names: {'ut rio grande valley', 'mississippi valley st.', 'arkansas pine bluff', 'southeast missouri st.', 'tarleton st.', 'queens', 'illinois chicago', 'texas a&m commerce', 'tennessee martin', 'bethune cookman', 'louisiana monroe', 'saint francis', 'cal st. bakersfield'}\n",
      "ERROR:root:Missing names: {'ut rio grande valley', 'mississippi valley st.', 'arkansas pine bluff', 'southeast missouri st.', 'tarleton st.', 'queens', 'illinois chicago', 'texas a&m commerce', 'tennessee martin', 'bethune cookman', 'louisiana monroe', 'saint francis', 'cal st. bakersfield'}\n",
      "ERROR:root:Missing names: {'ut rio grande valley', 'mississippi valley st.', 'arkansas pine bluff', 'southeast missouri st.', 'tarleton st.', 'queens', 'illinois chicago', 'texas a&m commerce', 'tennessee martin', 'bethune cookman', 'louisiana monroe', 'saint francis', 'cal st. bakersfield'}\n",
      "ERROR:root:Missing names: {'ut rio grande valley', 'mississippi valley st.', 'arkansas pine bluff', 'southeast missouri st.', 'st. francis ny', 'tarleton st.', 'illinois chicago', 'tennessee martin', 'louisiana monroe', 'saint francis', 'cal st. bakersfield'}\n",
      "ERROR:root:Missing names: {'ut rio grande valley', 'mississippi valley st.', 'arkansas pine bluff', 'southeast missouri st.', 'st. francis ny', 'tarleton st.', 'bethune cookman', 'illinois chicago', 'tennessee martin', 'louisiana monroe', 'saint francis', 'cal st. bakersfield'}\n",
      "ERROR:root:Missing names: {'ut rio grande valley', 'mississippi valley st.', 'arkansas pine bluff', 'southeast missouri st.', 'st. francis ny', 'tarleton st.', 'queens', 'illinois chicago', 'texas a&m commerce', 'tennessee martin', 'bethune cookman', 'louisiana monroe', 'saint francis', 'cal st. bakersfield'}\n",
      "ERROR:root:Missing names: {'ut rio grande valley', 'mississippi valley st.', 'arkansas pine bluff', 'southeast missouri st.', 'tarleton st.', 'queens', 'illinois chicago', 'texas a&m commerce', 'tennessee martin', 'bethune cookman', 'louisiana monroe', 'saint francis', 'cal st. bakersfield'}\n"
     ]
    }
   ],
   "source": [
    "womens_preprocessed_dfs = {}\n",
    "for year in range(2016, 2025):\n",
    "    if year == 2020:\n",
    "        continue\n",
    "    womens_preprocessed_dfs[year] = preprocess_data.preprocess_womens_data(year)\n",
    "    "
   ]
  },
  {
   "cell_type": "code",
   "execution_count": 272,
   "id": "c0d62fbd-14cb-49e5-8176-f4cb72b8d0ab",
   "metadata": {},
   "outputs": [
    {
     "data": {
      "text/html": [
       "<table class=\"simpletable\">\n",
       "<caption>Generalized Linear Model Regression Results</caption>\n",
       "<tr>\n",
       "  <th>Dep. Variable:</th>        <td>Result</td>      <th>  No. Observations:  </th>  <td>  1000</td> \n",
       "</tr>\n",
       "<tr>\n",
       "  <th>Model:</th>                  <td>GLM</td>       <th>  Df Residuals:      </th>  <td>   995</td> \n",
       "</tr>\n",
       "<tr>\n",
       "  <th>Model Family:</th>        <td>Binomial</td>     <th>  Df Model:          </th>  <td>     4</td> \n",
       "</tr>\n",
       "<tr>\n",
       "  <th>Link Function:</th>         <td>Logit</td>      <th>  Scale:             </th> <td>  1.0000</td>\n",
       "</tr>\n",
       "<tr>\n",
       "  <th>Method:</th>                <td>IRLS</td>       <th>  Log-Likelihood:    </th> <td> -505.32</td>\n",
       "</tr>\n",
       "<tr>\n",
       "  <th>Date:</th>            <td>Thu, 20 Mar 2025</td> <th>  Deviance:          </th> <td>  1010.6</td>\n",
       "</tr>\n",
       "<tr>\n",
       "  <th>Time:</th>                <td>13:33:47</td>     <th>  Pearson chi2:      </th> <td>1.01e+03</td>\n",
       "</tr>\n",
       "<tr>\n",
       "  <th>No. Iterations:</th>          <td>5</td>        <th>  Pseudo R-squ. (CS):</th>  <td>0.3132</td> \n",
       "</tr>\n",
       "<tr>\n",
       "  <th>Covariance Type:</th>     <td>nonrobust</td>    <th>                     </th>     <td> </td>   \n",
       "</tr>\n",
       "</table>\n",
       "<table class=\"simpletable\">\n",
       "<tr>\n",
       "      <td></td>         <th>coef</th>     <th>std err</th>      <th>z</th>      <th>P>|z|</th>  <th>[0.025</th>    <th>0.975]</th>  \n",
       "</tr>\n",
       "<tr>\n",
       "  <th>Intercept</th> <td> 8.882e-15</td> <td>    2.637</td> <td> 3.37e-15</td> <td> 1.000</td> <td>   -5.168</td> <td>    5.168</td>\n",
       "</tr>\n",
       "<tr>\n",
       "  <th>adjoe</th>     <td>    0.0707</td> <td>    0.011</td> <td>    6.641</td> <td> 0.000</td> <td>    0.050</td> <td>    0.092</td>\n",
       "</tr>\n",
       "<tr>\n",
       "  <th>adjoe_2</th>   <td>   -0.0707</td> <td>    0.011</td> <td>   -6.641</td> <td> 0.000</td> <td>   -0.092</td> <td>   -0.050</td>\n",
       "</tr>\n",
       "<tr>\n",
       "  <th>adjde</th>     <td>   -0.0740</td> <td>    0.014</td> <td>   -5.182</td> <td> 0.000</td> <td>   -0.102</td> <td>   -0.046</td>\n",
       "</tr>\n",
       "<tr>\n",
       "  <th>adjde_2</th>   <td>    0.0740</td> <td>    0.014</td> <td>    5.182</td> <td> 0.000</td> <td>    0.046</td> <td>    0.102</td>\n",
       "</tr>\n",
       "</table>"
      ],
      "text/latex": [
       "\\begin{center}\n",
       "\\begin{tabular}{lclc}\n",
       "\\toprule\n",
       "\\textbf{Dep. Variable:}   &      Result      & \\textbf{  No. Observations:  } &     1000    \\\\\n",
       "\\textbf{Model:}           &       GLM        & \\textbf{  Df Residuals:      } &      995    \\\\\n",
       "\\textbf{Model Family:}    &     Binomial     & \\textbf{  Df Model:          } &        4    \\\\\n",
       "\\textbf{Link Function:}   &      Logit       & \\textbf{  Scale:             } &    1.0000   \\\\\n",
       "\\textbf{Method:}          &       IRLS       & \\textbf{  Log-Likelihood:    } &   -505.32   \\\\\n",
       "\\textbf{Date:}            & Thu, 20 Mar 2025 & \\textbf{  Deviance:          } &    1010.6   \\\\\n",
       "\\textbf{Time:}            &     13:33:47     & \\textbf{  Pearson chi2:      } &  1.01e+03   \\\\\n",
       "\\textbf{No. Iterations:}  &        5         & \\textbf{  Pseudo R-squ. (CS):} &   0.3132    \\\\\n",
       "\\textbf{Covariance Type:} &    nonrobust     & \\textbf{                     } &             \\\\\n",
       "\\bottomrule\n",
       "\\end{tabular}\n",
       "\\begin{tabular}{lcccccc}\n",
       "                   & \\textbf{coef} & \\textbf{std err} & \\textbf{z} & \\textbf{P$> |$z$|$} & \\textbf{[0.025} & \\textbf{0.975]}  \\\\\n",
       "\\midrule\n",
       "\\textbf{Intercept} &    8.882e-15  &        2.637     &  3.37e-15  &         1.000        &       -5.168    &        5.168     \\\\\n",
       "\\textbf{adjoe}     &       0.0707  &        0.011     &     6.641  &         0.000        &        0.050    &        0.092     \\\\\n",
       "\\textbf{adjoe\\_2}  &      -0.0707  &        0.011     &    -6.641  &         0.000        &       -0.092    &       -0.050     \\\\\n",
       "\\textbf{adjde}     &      -0.0740  &        0.014     &    -5.182  &         0.000        &       -0.102    &       -0.046     \\\\\n",
       "\\textbf{adjde\\_2}  &       0.0740  &        0.014     &     5.182  &         0.000        &        0.046    &        0.102     \\\\\n",
       "\\bottomrule\n",
       "\\end{tabular}\n",
       "%\\caption{Generalized Linear Model Regression Results}\n",
       "\\end{center}"
      ],
      "text/plain": [
       "<class 'statsmodels.iolib.summary.Summary'>\n",
       "\"\"\"\n",
       "                 Generalized Linear Model Regression Results                  \n",
       "==============================================================================\n",
       "Dep. Variable:                 Result   No. Observations:                 1000\n",
       "Model:                            GLM   Df Residuals:                      995\n",
       "Model Family:                Binomial   Df Model:                            4\n",
       "Link Function:                  Logit   Scale:                          1.0000\n",
       "Method:                          IRLS   Log-Likelihood:                -505.32\n",
       "Date:                Thu, 20 Mar 2025   Deviance:                       1010.6\n",
       "Time:                        13:33:47   Pearson chi2:                 1.01e+03\n",
       "No. Iterations:                     5   Pseudo R-squ. (CS):             0.3132\n",
       "Covariance Type:            nonrobust                                         \n",
       "==============================================================================\n",
       "                 coef    std err          z      P>|z|      [0.025      0.975]\n",
       "------------------------------------------------------------------------------\n",
       "Intercept   8.882e-15      2.637   3.37e-15      1.000      -5.168       5.168\n",
       "adjoe          0.0707      0.011      6.641      0.000       0.050       0.092\n",
       "adjoe_2       -0.0707      0.011     -6.641      0.000      -0.092      -0.050\n",
       "adjde         -0.0740      0.014     -5.182      0.000      -0.102      -0.046\n",
       "adjde_2        0.0740      0.014      5.182      0.000       0.046       0.102\n",
       "==============================================================================\n",
       "\"\"\""
      ]
     },
     "execution_count": 272,
     "metadata": {},
     "output_type": "execute_result"
    }
   ],
   "source": [
    "training_df = pl.concat([womens_preprocessed_dfs[year] for year in range(2016, 2025) if year != 2020], how='diagonal')\n",
    "training_df = training_df.to_pandas()\n",
    "x_cols = [column for column in training_df.columns[8:32] if '_2' not in column]\n",
    "x_2_cols = [column for column in training_df.columns if '_2' in column]\n",
    "assert len(x_cols) == len(x_2_cols)\n",
    "dup_training_df = training_df.copy()\n",
    "dup_training_df[x_cols] = training_df[x_2_cols]\n",
    "dup_training_df[x_2_cols] = training_df[x_cols]\n",
    "dup_training_df['Result'] = 1 - training_df['Result']\n",
    "final_training_df = pd.concat([training_df, dup_training_df]).reset_index(drop=True)\n",
    "# test_df = womens_preprocessed_dfs[2024]\n",
    "womens_model = smf.glm(\n",
    "    \"Result ~ adjoe + adjoe_2 + adjde + adjde_2 \",\n",
    "    data=final_training_df,\n",
    "    family=sm.families.Binomial(link=sm.families.links.Logit())\n",
    ")\n",
    "results = womens_model.fit()\n",
    "\n",
    "# print(model_utils.evaluate_model(\n",
    "#     test_df.with_columns(\n",
    "#         pl.Series(values=results.predict(test_df.to_pandas()).values, name='pred'),\n",
    "#     ),\n",
    "#     cap=.95\n",
    "# ))\n",
    "results.summary()"
   ]
  },
  {
   "cell_type": "code",
   "execution_count": 273,
   "id": "3c89eb60-f25a-42fd-b0e2-9107afeef9f3",
   "metadata": {},
   "outputs": [],
   "source": [
    "# results.save('../kaggle_2025/models/womens_barttorvik.pkl')"
   ]
  },
  {
   "cell_type": "code",
   "execution_count": 274,
   "id": "3d2af8e0-ec31-48f6-9a35-454d8a6752d5",
   "metadata": {},
   "outputs": [
    {
     "data": {
      "text/html": [
       "<table class=\"simpletable\">\n",
       "<caption>Generalized Linear Model Regression Results</caption>\n",
       "<tr>\n",
       "  <th>Dep. Variable:</th>        <td>Result</td>      <th>  No. Observations:  </th>  <td>   874</td> \n",
       "</tr>\n",
       "<tr>\n",
       "  <th>Model:</th>                  <td>GLM</td>       <th>  Df Residuals:      </th>  <td>   865</td> \n",
       "</tr>\n",
       "<tr>\n",
       "  <th>Model Family:</th>        <td>Binomial</td>     <th>  Df Model:          </th>  <td>     8</td> \n",
       "</tr>\n",
       "<tr>\n",
       "  <th>Link Function:</th>         <td>Logit</td>      <th>  Scale:             </th> <td>  1.0000</td>\n",
       "</tr>\n",
       "<tr>\n",
       "  <th>Method:</th>                <td>IRLS</td>       <th>  Log-Likelihood:    </th> <td> -488.58</td>\n",
       "</tr>\n",
       "<tr>\n",
       "  <th>Date:</th>            <td>Thu, 20 Mar 2025</td> <th>  Deviance:          </th> <td>  977.16</td>\n",
       "</tr>\n",
       "<tr>\n",
       "  <th>Time:</th>                <td>13:33:47</td>     <th>  Pearson chi2:      </th>  <td>  896.</td> \n",
       "</tr>\n",
       "<tr>\n",
       "  <th>No. Iterations:</th>          <td>5</td>        <th>  Pseudo R-squ. (CS):</th>  <td>0.2353</td> \n",
       "</tr>\n",
       "<tr>\n",
       "  <th>Covariance Type:</th>     <td>nonrobust</td>    <th>                     </th>     <td> </td>   \n",
       "</tr>\n",
       "</table>\n",
       "<table class=\"simpletable\">\n",
       "<tr>\n",
       "      <td></td>         <th>coef</th>     <th>std err</th>      <th>z</th>      <th>P>|z|</th>  <th>[0.025</th>    <th>0.975]</th>  \n",
       "</tr>\n",
       "<tr>\n",
       "  <th>Intercept</th> <td>-5.107e-15</td> <td>    3.293</td> <td>-1.55e-15</td> <td> 1.000</td> <td>   -6.454</td> <td>    6.454</td>\n",
       "</tr>\n",
       "<tr>\n",
       "  <th>adjoe</th>     <td>    0.1508</td> <td>    0.086</td> <td>    1.749</td> <td> 0.080</td> <td>   -0.018</td> <td>    0.320</td>\n",
       "</tr>\n",
       "<tr>\n",
       "  <th>adjoe_2</th>   <td>   -0.1508</td> <td>    0.086</td> <td>   -1.749</td> <td> 0.080</td> <td>   -0.320</td> <td>    0.018</td>\n",
       "</tr>\n",
       "<tr>\n",
       "  <th>adjde</th>     <td>   -0.1221</td> <td>    0.099</td> <td>   -1.237</td> <td> 0.216</td> <td>   -0.316</td> <td>    0.071</td>\n",
       "</tr>\n",
       "<tr>\n",
       "  <th>adjde_2</th>   <td>    0.1221</td> <td>    0.099</td> <td>    1.237</td> <td> 0.216</td> <td>   -0.071</td> <td>    0.316</td>\n",
       "</tr>\n",
       "<tr>\n",
       "  <th>AdjO</th>      <td>   -0.0519</td> <td>    0.091</td> <td>   -0.571</td> <td> 0.568</td> <td>   -0.230</td> <td>    0.126</td>\n",
       "</tr>\n",
       "<tr>\n",
       "  <th>AdjO_2</th>    <td>    0.0519</td> <td>    0.091</td> <td>    0.571</td> <td> 0.568</td> <td>   -0.126</td> <td>    0.230</td>\n",
       "</tr>\n",
       "<tr>\n",
       "  <th>AdjD</th>      <td>    0.0405</td> <td>    0.092</td> <td>    0.441</td> <td> 0.659</td> <td>   -0.140</td> <td>    0.221</td>\n",
       "</tr>\n",
       "<tr>\n",
       "  <th>AdjD_2</th>    <td>   -0.0405</td> <td>    0.092</td> <td>   -0.441</td> <td> 0.659</td> <td>   -0.221</td> <td>    0.140</td>\n",
       "</tr>\n",
       "</table>"
      ],
      "text/latex": [
       "\\begin{center}\n",
       "\\begin{tabular}{lclc}\n",
       "\\toprule\n",
       "\\textbf{Dep. Variable:}   &      Result      & \\textbf{  No. Observations:  } &      874    \\\\\n",
       "\\textbf{Model:}           &       GLM        & \\textbf{  Df Residuals:      } &      865    \\\\\n",
       "\\textbf{Model Family:}    &     Binomial     & \\textbf{  Df Model:          } &        8    \\\\\n",
       "\\textbf{Link Function:}   &      Logit       & \\textbf{  Scale:             } &    1.0000   \\\\\n",
       "\\textbf{Method:}          &       IRLS       & \\textbf{  Log-Likelihood:    } &   -488.58   \\\\\n",
       "\\textbf{Date:}            & Thu, 20 Mar 2025 & \\textbf{  Deviance:          } &    977.16   \\\\\n",
       "\\textbf{Time:}            &     13:33:47     & \\textbf{  Pearson chi2:      } &     896.    \\\\\n",
       "\\textbf{No. Iterations:}  &        5         & \\textbf{  Pseudo R-squ. (CS):} &   0.2353    \\\\\n",
       "\\textbf{Covariance Type:} &    nonrobust     & \\textbf{                     } &             \\\\\n",
       "\\bottomrule\n",
       "\\end{tabular}\n",
       "\\begin{tabular}{lcccccc}\n",
       "                   & \\textbf{coef} & \\textbf{std err} & \\textbf{z} & \\textbf{P$> |$z$|$} & \\textbf{[0.025} & \\textbf{0.975]}  \\\\\n",
       "\\midrule\n",
       "\\textbf{Intercept} &   -5.107e-15  &        3.293     & -1.55e-15  &         1.000        &       -6.454    &        6.454     \\\\\n",
       "\\textbf{adjoe}     &       0.1508  &        0.086     &     1.749  &         0.080        &       -0.018    &        0.320     \\\\\n",
       "\\textbf{adjoe\\_2}  &      -0.1508  &        0.086     &    -1.749  &         0.080        &       -0.320    &        0.018     \\\\\n",
       "\\textbf{adjde}     &      -0.1221  &        0.099     &    -1.237  &         0.216        &       -0.316    &        0.071     \\\\\n",
       "\\textbf{adjde\\_2}  &       0.1221  &        0.099     &     1.237  &         0.216        &       -0.071    &        0.316     \\\\\n",
       "\\textbf{AdjO}      &      -0.0519  &        0.091     &    -0.571  &         0.568        &       -0.230    &        0.126     \\\\\n",
       "\\textbf{AdjO\\_2}   &       0.0519  &        0.091     &     0.571  &         0.568        &       -0.126    &        0.230     \\\\\n",
       "\\textbf{AdjD}      &       0.0405  &        0.092     &     0.441  &         0.659        &       -0.140    &        0.221     \\\\\n",
       "\\textbf{AdjD\\_2}   &      -0.0405  &        0.092     &    -0.441  &         0.659        &       -0.221    &        0.140     \\\\\n",
       "\\bottomrule\n",
       "\\end{tabular}\n",
       "%\\caption{Generalized Linear Model Regression Results}\n",
       "\\end{center}"
      ],
      "text/plain": [
       "<class 'statsmodels.iolib.summary.Summary'>\n",
       "\"\"\"\n",
       "                 Generalized Linear Model Regression Results                  \n",
       "==============================================================================\n",
       "Dep. Variable:                 Result   No. Observations:                  874\n",
       "Model:                            GLM   Df Residuals:                      865\n",
       "Model Family:                Binomial   Df Model:                            8\n",
       "Link Function:                  Logit   Scale:                          1.0000\n",
       "Method:                          IRLS   Log-Likelihood:                -488.58\n",
       "Date:                Thu, 20 Mar 2025   Deviance:                       977.16\n",
       "Time:                        13:33:47   Pearson chi2:                     896.\n",
       "No. Iterations:                     5   Pseudo R-squ. (CS):             0.2353\n",
       "Covariance Type:            nonrobust                                         \n",
       "==============================================================================\n",
       "                 coef    std err          z      P>|z|      [0.025      0.975]\n",
       "------------------------------------------------------------------------------\n",
       "Intercept  -5.107e-15      3.293  -1.55e-15      1.000      -6.454       6.454\n",
       "adjoe          0.1508      0.086      1.749      0.080      -0.018       0.320\n",
       "adjoe_2       -0.1508      0.086     -1.749      0.080      -0.320       0.018\n",
       "adjde         -0.1221      0.099     -1.237      0.216      -0.316       0.071\n",
       "adjde_2        0.1221      0.099      1.237      0.216      -0.071       0.316\n",
       "AdjO          -0.0519      0.091     -0.571      0.568      -0.230       0.126\n",
       "AdjO_2         0.0519      0.091      0.571      0.568      -0.126       0.230\n",
       "AdjD           0.0405      0.092      0.441      0.659      -0.140       0.221\n",
       "AdjD_2        -0.0405      0.092     -0.441      0.659      -0.221       0.140\n",
       "==============================================================================\n",
       "\"\"\""
      ]
     },
     "execution_count": 274,
     "metadata": {},
     "output_type": "execute_result"
    }
   ],
   "source": [
    "training_df = pl.concat([preprocessed_dfs[year] for year in range(2016, 2025) if year != 2020], how='diagonal')\n",
    "training_df = training_df.to_pandas()\n",
    "x_cols = [column for column in training_df.columns[8:] if '_2' not in column]\n",
    "x_2_cols = [column for column in training_df.columns if '_2' in column]\n",
    "assert len(x_cols) == len(x_2_cols)\n",
    "dup_training_df = training_df.copy()\n",
    "dup_training_df[x_cols] = training_df[x_2_cols]\n",
    "dup_training_df[x_2_cols] = training_df[x_cols]\n",
    "dup_training_df['Result'] = 1 - training_df['Result']\n",
    "final_training_df = pd.concat([training_df, dup_training_df]).reset_index(drop=True)\n",
    "# test_df = preprocessed_dfs[2025]\n",
    "mens_model = smf.glm(\n",
    "    \"Result ~ adjoe + adjoe_2 + adjde + adjde_2 + AdjO + AdjO_2 + AdjD + AdjD_2\",\n",
    "    data=final_training_df,\n",
    "    family=sm.families.Binomial(link=sm.families.links.Logit())\n",
    ")\n",
    "results = mens_model.fit()\n",
    "\n",
    "# print(model_utils.evaluate_model(\n",
    "#     test_df.with_columns(\n",
    "#         pl.Series(values=results.predict(test_df.to_pandas()).values, name='pred'),\n",
    "#     ),\n",
    "#     cap=.95\n",
    "# ))\n",
    "results.summary()"
   ]
  },
  {
   "cell_type": "code",
   "execution_count": 275,
   "id": "d715c6b4-96cb-41e2-a43b-37e16aeadfd6",
   "metadata": {},
   "outputs": [],
   "source": [
    "# results.save('../kaggle_2025/models/mens_barttorvik_kenpom.pkl')"
   ]
  },
  {
   "cell_type": "code",
   "execution_count": 276,
   "id": "71d90b73-3ca2-47c9-8917-7a256f052ee2",
   "metadata": {},
   "outputs": [],
   "source": [
    "def _merge_with_kaggle_names(\n",
    "    df: pl.DataFrame, kaggle_names_df: pl.DataFrame, team_col: str\n",
    ") -> pl.DataFrame:\n",
    "    kaggle_names_df = kaggle_names_df.with_columns(\n",
    "        pl.col(\"Team\").alias(\"__KAGGLE_TEAM_SPELLING_VARIATION\"),\n",
    "        pl.col(\"TeamID\").alias(\"__KAGGLE_TEAM_ID\"),\n",
    "        pl.col(\"TeamName\").alias(\"__KAGGLE_TEAM_NAME\"),\n",
    "    ).select(pl.exclude(\"Team\", \"TeamID\", \"TeamName\"))\n",
    "    processed_df = (\n",
    "        df.with_columns(\n",
    "            pl.col(team_col).str.to_lowercase().alias(f\"{team_col}_lower\"),\n",
    "        )\n",
    "        .join(\n",
    "            kaggle_names_df,\n",
    "            left_on=f\"{team_col}_lower\",\n",
    "            right_on=\"__KAGGLE_TEAM_SPELLING_VARIATION\",\n",
    "            how=\"inner\",\n",
    "        )\n",
    "        .with_columns(\n",
    "            pl.col(\"__KAGGLE_TEAM_NAME\").alias(team_col),\n",
    "            pl.col(\"__KAGGLE_TEAM_ID\").alias(f\"{team_col}_id\"),\n",
    "        )\n",
    "        .select(\n",
    "            pl.exclude(\n",
    "                [\n",
    "                    f\"{team_col}_lower\",\n",
    "                    \"__KAGGLE_TEAM_SPELLING_VARIATION\",\n",
    "                    \"__KAGGLE_TEAM_ID\",\n",
    "                    \"__KAGGLE_TEAM_NAME\",\n",
    "                ]\n",
    "            )\n",
    "        )\n",
    "    )\n",
    "    if processed_df.shape[0] != df.shape[0]:\n",
    "        df_names = set(df.select(pl.col(team_col)).to_series())\n",
    "        kaggle_names = set(\n",
    "            kaggle_names_df.select(\n",
    "                pl.col(\"__KAGGLE_TEAM_SPELLING_VARIATION\")\n",
    "            ).to_series()\n",
    "        )\n",
    "        missing_names = df_names - kaggle_names\n",
    "        print(missing_names)\n",
    "    return processed_df"
   ]
  },
  {
   "cell_type": "code",
   "execution_count": 277,
   "id": "38bc3d89-0673-4584-945d-f12584b12def",
   "metadata": {},
   "outputs": [
    {
     "data": {
      "text/html": [
       "<div><style>\n",
       ".dataframe > thead > tr,\n",
       ".dataframe > tbody > tr {\n",
       "  text-align: right;\n",
       "  white-space: pre-wrap;\n",
       "}\n",
       "</style>\n",
       "<small>shape: (1_178, 3)</small><table border=\"1\" class=\"dataframe\"><thead><tr><th>Team</th><th>TeamID</th><th>TeamName</th></tr><tr><td>str</td><td>i16</td><td>str</td></tr></thead><tbody><tr><td>&quot;a&amp;m-corpus chris&quot;</td><td>1394</td><td>&quot;TAM C. Christi&quot;</td></tr><tr><td>&quot;a&amp;m-corpus christi&quot;</td><td>1394</td><td>&quot;TAM C. Christi&quot;</td></tr><tr><td>&quot;abilene chr&quot;</td><td>1101</td><td>&quot;Abilene Chr&quot;</td></tr><tr><td>&quot;abilene christian&quot;</td><td>1101</td><td>&quot;Abilene Chr&quot;</td></tr><tr><td>&quot;abilene-christian&quot;</td><td>1101</td><td>&quot;Abilene Chr&quot;</td></tr><tr><td>&hellip;</td><td>&hellip;</td><td>&hellip;</td></tr><tr><td>&quot;youngstown st&quot;</td><td>1464</td><td>&quot;Youngstown St&quot;</td></tr><tr><td>&quot;youngstown st.&quot;</td><td>1464</td><td>&quot;Youngstown St&quot;</td></tr><tr><td>&quot;youngstown state&quot;</td><td>1464</td><td>&quot;Youngstown St&quot;</td></tr><tr><td>&quot;youngstown-st&quot;</td><td>1464</td><td>&quot;Youngstown St&quot;</td></tr><tr><td>&quot;youngstown-state&quot;</td><td>1464</td><td>&quot;Youngstown St&quot;</td></tr></tbody></table></div>"
      ],
      "text/plain": [
       "shape: (1_178, 3)\n",
       "┌────────────────────┬────────┬────────────────┐\n",
       "│ Team               ┆ TeamID ┆ TeamName       │\n",
       "│ ---                ┆ ---    ┆ ---            │\n",
       "│ str                ┆ i16    ┆ str            │\n",
       "╞════════════════════╪════════╪════════════════╡\n",
       "│ a&m-corpus chris   ┆ 1394   ┆ TAM C. Christi │\n",
       "│ a&m-corpus christi ┆ 1394   ┆ TAM C. Christi │\n",
       "│ abilene chr        ┆ 1101   ┆ Abilene Chr    │\n",
       "│ abilene christian  ┆ 1101   ┆ Abilene Chr    │\n",
       "│ abilene-christian  ┆ 1101   ┆ Abilene Chr    │\n",
       "│ …                  ┆ …      ┆ …              │\n",
       "│ youngstown st      ┆ 1464   ┆ Youngstown St  │\n",
       "│ youngstown st.     ┆ 1464   ┆ Youngstown St  │\n",
       "│ youngstown state   ┆ 1464   ┆ Youngstown St  │\n",
       "│ youngstown-st      ┆ 1464   ┆ Youngstown St  │\n",
       "│ youngstown-state   ┆ 1464   ┆ Youngstown St  │\n",
       "└────────────────────┴────────┴────────────────┘"
      ]
     },
     "execution_count": 277,
     "metadata": {},
     "output_type": "execute_result"
    }
   ],
   "source": [
    "module_dir = pathlib.Path('.').absolute()\n",
    "kaggle_names_df = pl.read_csv(\n",
    "    module_dir.parent / \"data/kaggle_2025/raw/MTeamSpellings.csv\",\n",
    "    schema={\"Team\": pl.Utf8, \"TeamID\": pl.Int16},\n",
    ").join(\n",
    "    pl.read_csv(module_dir.parent / \"data/kaggle_2025/raw/MTeams.csv\").select(\n",
    "        pl.col(\"TeamID\"), pl.col(\"TeamName\")\n",
    "    ),\n",
    "    on=\"TeamID\",\n",
    ")\n",
    "kaggle_names_df"
   ]
  },
  {
   "cell_type": "code",
   "execution_count": 278,
   "id": "608ac017-c3a4-4dfb-9acd-c8e6206c7507",
   "metadata": {},
   "outputs": [
    {
     "name": "stdout",
     "output_type": "stream",
     "text": [
      "{'ut rio grande valley', 'mississippi valley st.', 'southeast missouri', 'arkansas pine bluff', 'tarleton st.', 'queens', 'illinois chicago', 'bethune cookman', 'tennessee martin', 'louisiana monroe', 'saint francis', 'cal st. bakersfield'}\n"
     ]
    },
    {
     "data": {
      "text/html": [
       "<div><style>\n",
       ".dataframe > thead > tr,\n",
       ".dataframe > tbody > tr {\n",
       "  text-align: right;\n",
       "  white-space: pre-wrap;\n",
       "}\n",
       "</style>\n",
       "<small>shape: (352, 4)</small><table border=\"1\" class=\"dataframe\"><thead><tr><th>Team</th><th>TeamID</th><th>AdjO</th><th>AdjD</th></tr><tr><td>str</td><td>i16</td><td>f64</td><td>f64</td></tr></thead><tbody><tr><td>&quot;Abilene Chr&quot;</td><td>1101</td><td>97.6</td><td>102.1</td></tr><tr><td>&quot;Air Force&quot;</td><td>1102</td><td>98.9</td><td>111.5</td></tr><tr><td>&quot;Akron&quot;</td><td>1103</td><td>113.7</td><td>107.1</td></tr><tr><td>&quot;Alabama&quot;</td><td>1104</td><td>126.5</td><td>96.6</td></tr><tr><td>&quot;Alabama A&amp;M&quot;</td><td>1105</td><td>92.0</td><td>115.5</td></tr><tr><td>&hellip;</td><td>&hellip;</td><td>&hellip;</td><td>&hellip;</td></tr><tr><td>&quot;Wright St&quot;</td><td>1460</td><td>109.5</td><td>114.1</td></tr><tr><td>&quot;Wyoming&quot;</td><td>1461</td><td>103.6</td><td>105.5</td></tr><tr><td>&quot;Xavier&quot;</td><td>1462</td><td>115.5</td><td>98.3</td></tr><tr><td>&quot;Yale&quot;</td><td>1463</td><td>115.1</td><td>104.0</td></tr><tr><td>&quot;Youngstown St&quot;</td><td>1464</td><td>102.1</td><td>105.4</td></tr></tbody></table></div>"
      ],
      "text/plain": [
       "shape: (352, 4)\n",
       "┌───────────────┬────────┬───────┬───────┐\n",
       "│ Team          ┆ TeamID ┆ AdjO  ┆ AdjD  │\n",
       "│ ---           ┆ ---    ┆ ---   ┆ ---   │\n",
       "│ str           ┆ i16    ┆ f64   ┆ f64   │\n",
       "╞═══════════════╪════════╪═══════╪═══════╡\n",
       "│ Abilene Chr   ┆ 1101   ┆ 97.6  ┆ 102.1 │\n",
       "│ Air Force     ┆ 1102   ┆ 98.9  ┆ 111.5 │\n",
       "│ Akron         ┆ 1103   ┆ 113.7 ┆ 107.1 │\n",
       "│ Alabama       ┆ 1104   ┆ 126.5 ┆ 96.6  │\n",
       "│ Alabama A&M   ┆ 1105   ┆ 92.0  ┆ 115.5 │\n",
       "│ …             ┆ …      ┆ …     ┆ …     │\n",
       "│ Wright St     ┆ 1460   ┆ 109.5 ┆ 114.1 │\n",
       "│ Wyoming       ┆ 1461   ┆ 103.6 ┆ 105.5 │\n",
       "│ Xavier        ┆ 1462   ┆ 115.5 ┆ 98.3  │\n",
       "│ Yale          ┆ 1463   ┆ 115.1 ┆ 104.0 │\n",
       "│ Youngstown St ┆ 1464   ┆ 102.1 ┆ 105.4 │\n",
       "└───────────────┴────────┴───────┴───────┘"
      ]
     },
     "execution_count": 278,
     "metadata": {},
     "output_type": "execute_result"
    }
   ],
   "source": [
    "kenpom_df =(\n",
    "    pl.read_parquet('../data/kenpom/raw/kenpom_2025.parquet')\n",
    "    .with_columns(\n",
    "        pl.col(\"Team\").str.to_lowercase().alias(\"Team\")\n",
    "    )\n",
    "    .pipe(_merge_with_kaggle_names, kaggle_names_df, \"Team\")\n",
    "    .select(\n",
    "        pl.col('Team'),\n",
    "        pl.col('Team_id').alias('TeamID'),\n",
    "        pl.col('AdjO'),\n",
    "        pl.col('AdjD')\n",
    "    )\n",
    ")\n",
    "kenpom_df"
   ]
  },
  {
   "cell_type": "code",
   "execution_count": 279,
   "id": "24c24db9-a3c6-4abf-a62a-1d31ad960a3a",
   "metadata": {
    "scrolled": true
   },
   "outputs": [
    {
     "name": "stdout",
     "output_type": "stream",
     "text": [
      "{'ut rio grande valley', 'mississippi valley st.', 'arkansas pine bluff', 'southeast missouri st.', 'tarleton st.', 'queens', 'illinois chicago', 'texas a&m commerce', 'tennessee martin', 'bethune cookman', 'louisiana monroe', 'saint francis', 'cal st. bakersfield'}\n"
     ]
    },
    {
     "data": {
      "text/html": [
       "<div><style>\n",
       ".dataframe > thead > tr,\n",
       ".dataframe > tbody > tr {\n",
       "  text-align: right;\n",
       "  white-space: pre-wrap;\n",
       "}\n",
       "</style>\n",
       "<small>shape: (351, 4)</small><table border=\"1\" class=\"dataframe\"><thead><tr><th>Team</th><th>TeamID</th><th>adjoe</th><th>adjde</th></tr><tr><td>str</td><td>i16</td><td>f32</td><td>f32</td></tr></thead><tbody><tr><td>&quot;Abilene Chr&quot;</td><td>1101</td><td>98.199997</td><td>101.699997</td></tr><tr><td>&quot;Air Force&quot;</td><td>1102</td><td>98.800003</td><td>109.599998</td></tr><tr><td>&quot;Akron&quot;</td><td>1103</td><td>113.300003</td><td>106.300003</td></tr><tr><td>&quot;Alabama&quot;</td><td>1104</td><td>127.0</td><td>96.199997</td></tr><tr><td>&quot;Alabama A&amp;M&quot;</td><td>1105</td><td>92.800003</td><td>114.699997</td></tr><tr><td>&hellip;</td><td>&hellip;</td><td>&hellip;</td><td>&hellip;</td></tr><tr><td>&quot;Wright St&quot;</td><td>1460</td><td>108.699997</td><td>112.5</td></tr><tr><td>&quot;Wyoming&quot;</td><td>1461</td><td>103.199997</td><td>105.099998</td></tr><tr><td>&quot;Xavier&quot;</td><td>1462</td><td>116.0</td><td>98.699997</td></tr><tr><td>&quot;Yale&quot;</td><td>1463</td><td>114.0</td><td>103.800003</td></tr><tr><td>&quot;Youngstown St&quot;</td><td>1464</td><td>101.099998</td><td>105.0</td></tr></tbody></table></div>"
      ],
      "text/plain": [
       "shape: (351, 4)\n",
       "┌───────────────┬────────┬────────────┬────────────┐\n",
       "│ Team          ┆ TeamID ┆ adjoe      ┆ adjde      │\n",
       "│ ---           ┆ ---    ┆ ---        ┆ ---        │\n",
       "│ str           ┆ i16    ┆ f32        ┆ f32        │\n",
       "╞═══════════════╪════════╪════════════╪════════════╡\n",
       "│ Abilene Chr   ┆ 1101   ┆ 98.199997  ┆ 101.699997 │\n",
       "│ Air Force     ┆ 1102   ┆ 98.800003  ┆ 109.599998 │\n",
       "│ Akron         ┆ 1103   ┆ 113.300003 ┆ 106.300003 │\n",
       "│ Alabama       ┆ 1104   ┆ 127.0      ┆ 96.199997  │\n",
       "│ Alabama A&M   ┆ 1105   ┆ 92.800003  ┆ 114.699997 │\n",
       "│ …             ┆ …      ┆ …          ┆ …          │\n",
       "│ Wright St     ┆ 1460   ┆ 108.699997 ┆ 112.5      │\n",
       "│ Wyoming       ┆ 1461   ┆ 103.199997 ┆ 105.099998 │\n",
       "│ Xavier        ┆ 1462   ┆ 116.0      ┆ 98.699997  │\n",
       "│ Yale          ┆ 1463   ┆ 114.0      ┆ 103.800003 │\n",
       "│ Youngstown St ┆ 1464   ┆ 101.099998 ┆ 105.0      │\n",
       "└───────────────┴────────┴────────────┴────────────┘"
      ]
     },
     "execution_count": 279,
     "metadata": {},
     "output_type": "execute_result"
    }
   ],
   "source": [
    "barttorvik_df = (\n",
    "    pl.read_parquet('../data/barttorvik/raw/mens/barttorvik_2025.parquet')\n",
    "    .with_columns(\n",
    "        pl.col(\"team\").str.to_lowercase().alias(\"team\")\n",
    "    )\n",
    "    .pipe(_merge_with_kaggle_names, kaggle_names_df, \"team\")\n",
    "    .select(\n",
    "        pl.col('team').alias('Team'),\n",
    "        pl.col('team_id').alias('TeamID'),\n",
    "        pl.col('adjoe'),\n",
    "        pl.col('adjde')\n",
    "    )\n",
    ")\n",
    "barttorvik_df"
   ]
  },
  {
   "cell_type": "code",
   "execution_count": 280,
   "id": "dcf9c4c0-38cc-4f6f-956b-823f05fca16f",
   "metadata": {},
   "outputs": [
    {
     "data": {
      "text/html": [
       "<div><style>\n",
       ".dataframe > thead > tr,\n",
       ".dataframe > tbody > tr {\n",
       "  text-align: right;\n",
       "  white-space: pre-wrap;\n",
       "}\n",
       "</style>\n",
       "<small>shape: (351, 6)</small><table border=\"1\" class=\"dataframe\"><thead><tr><th>Team</th><th>TeamID</th><th>AdjO</th><th>AdjD</th><th>adjoe</th><th>adjde</th></tr><tr><td>str</td><td>i16</td><td>f64</td><td>f64</td><td>f32</td><td>f32</td></tr></thead><tbody><tr><td>&quot;Abilene Chr&quot;</td><td>1101</td><td>97.6</td><td>102.1</td><td>98.199997</td><td>101.699997</td></tr><tr><td>&quot;Air Force&quot;</td><td>1102</td><td>98.9</td><td>111.5</td><td>98.800003</td><td>109.599998</td></tr><tr><td>&quot;Akron&quot;</td><td>1103</td><td>113.7</td><td>107.1</td><td>113.300003</td><td>106.300003</td></tr><tr><td>&quot;Alabama&quot;</td><td>1104</td><td>126.5</td><td>96.6</td><td>127.0</td><td>96.199997</td></tr><tr><td>&quot;Alabama A&amp;M&quot;</td><td>1105</td><td>92.0</td><td>115.5</td><td>92.800003</td><td>114.699997</td></tr><tr><td>&hellip;</td><td>&hellip;</td><td>&hellip;</td><td>&hellip;</td><td>&hellip;</td><td>&hellip;</td></tr><tr><td>&quot;Wright St&quot;</td><td>1460</td><td>109.5</td><td>114.1</td><td>108.699997</td><td>112.5</td></tr><tr><td>&quot;Wyoming&quot;</td><td>1461</td><td>103.6</td><td>105.5</td><td>103.199997</td><td>105.099998</td></tr><tr><td>&quot;Xavier&quot;</td><td>1462</td><td>115.5</td><td>98.3</td><td>116.0</td><td>98.699997</td></tr><tr><td>&quot;Yale&quot;</td><td>1463</td><td>115.1</td><td>104.0</td><td>114.0</td><td>103.800003</td></tr><tr><td>&quot;Youngstown St&quot;</td><td>1464</td><td>102.1</td><td>105.4</td><td>101.099998</td><td>105.0</td></tr></tbody></table></div>"
      ],
      "text/plain": [
       "shape: (351, 6)\n",
       "┌───────────────┬────────┬───────┬───────┬────────────┬────────────┐\n",
       "│ Team          ┆ TeamID ┆ AdjO  ┆ AdjD  ┆ adjoe      ┆ adjde      │\n",
       "│ ---           ┆ ---    ┆ ---   ┆ ---   ┆ ---        ┆ ---        │\n",
       "│ str           ┆ i16    ┆ f64   ┆ f64   ┆ f32        ┆ f32        │\n",
       "╞═══════════════╪════════╪═══════╪═══════╪════════════╪════════════╡\n",
       "│ Abilene Chr   ┆ 1101   ┆ 97.6  ┆ 102.1 ┆ 98.199997  ┆ 101.699997 │\n",
       "│ Air Force     ┆ 1102   ┆ 98.9  ┆ 111.5 ┆ 98.800003  ┆ 109.599998 │\n",
       "│ Akron         ┆ 1103   ┆ 113.7 ┆ 107.1 ┆ 113.300003 ┆ 106.300003 │\n",
       "│ Alabama       ┆ 1104   ┆ 126.5 ┆ 96.6  ┆ 127.0      ┆ 96.199997  │\n",
       "│ Alabama A&M   ┆ 1105   ┆ 92.0  ┆ 115.5 ┆ 92.800003  ┆ 114.699997 │\n",
       "│ …             ┆ …      ┆ …     ┆ …     ┆ …          ┆ …          │\n",
       "│ Wright St     ┆ 1460   ┆ 109.5 ┆ 114.1 ┆ 108.699997 ┆ 112.5      │\n",
       "│ Wyoming       ┆ 1461   ┆ 103.6 ┆ 105.5 ┆ 103.199997 ┆ 105.099998 │\n",
       "│ Xavier        ┆ 1462   ┆ 115.5 ┆ 98.3  ┆ 116.0      ┆ 98.699997  │\n",
       "│ Yale          ┆ 1463   ┆ 115.1 ┆ 104.0 ┆ 114.0      ┆ 103.800003 │\n",
       "│ Youngstown St ┆ 1464   ┆ 102.1 ┆ 105.4 ┆ 101.099998 ┆ 105.0      │\n",
       "└───────────────┴────────┴───────┴───────┴────────────┴────────────┘"
      ]
     },
     "execution_count": 280,
     "metadata": {},
     "output_type": "execute_result"
    }
   ],
   "source": [
    "cleaned_df = kenpom_df.join(\n",
    "    barttorvik_df,\n",
    "    on=['Team', 'TeamID'],\n",
    "    how='inner'\n",
    ")\n",
    "# cleaned_df =barttorvik_df\n",
    "cleaned_df"
   ]
  },
  {
   "cell_type": "code",
   "execution_count": 281,
   "id": "1ca3cc53-9557-48a7-bfda-13df94ad022f",
   "metadata": {},
   "outputs": [],
   "source": [
    "# cleaned_df.write_csv('../data/kaggle_2025/cleaned/mens/barttorvik_kenpom.csv')\n",
    "# cleaned_df.write_parquet('../data/kaggle_2025/cleaned/mens/barttorvik_kenpom.parquet')"
   ]
  },
  {
   "cell_type": "code",
   "execution_count": 282,
   "id": "2583e489-e722-42c4-b654-8eaa8cee5288",
   "metadata": {},
   "outputs": [
    {
     "data": {
      "text/html": [
       "<div><style>\n",
       ".dataframe > thead > tr,\n",
       ".dataframe > tbody > tr {\n",
       "  text-align: right;\n",
       "  white-space: pre-wrap;\n",
       "}\n",
       "</style>\n",
       "<small>shape: (1_171, 3)</small><table border=\"1\" class=\"dataframe\"><thead><tr><th>Team</th><th>TeamID</th><th>TeamName</th></tr><tr><td>str</td><td>i16</td><td>str</td></tr></thead><tbody><tr><td>&quot;a&amp;m-corpus chris&quot;</td><td>3394</td><td>&quot;TAM C. Christi&quot;</td></tr><tr><td>&quot;a&amp;m-corpus christi&quot;</td><td>3394</td><td>&quot;TAM C. Christi&quot;</td></tr><tr><td>&quot;abilene chr&quot;</td><td>3101</td><td>&quot;Abilene Chr&quot;</td></tr><tr><td>&quot;abilene christian&quot;</td><td>3101</td><td>&quot;Abilene Chr&quot;</td></tr><tr><td>&quot;abilene-christian&quot;</td><td>3101</td><td>&quot;Abilene Chr&quot;</td></tr><tr><td>&hellip;</td><td>&hellip;</td><td>&hellip;</td></tr><tr><td>&quot;youngstown st&quot;</td><td>3464</td><td>&quot;Youngstown St&quot;</td></tr><tr><td>&quot;youngstown st.&quot;</td><td>3464</td><td>&quot;Youngstown St&quot;</td></tr><tr><td>&quot;youngstown state&quot;</td><td>3464</td><td>&quot;Youngstown St&quot;</td></tr><tr><td>&quot;youngstown-st&quot;</td><td>3464</td><td>&quot;Youngstown St&quot;</td></tr><tr><td>&quot;youngstown-state&quot;</td><td>3464</td><td>&quot;Youngstown St&quot;</td></tr></tbody></table></div>"
      ],
      "text/plain": [
       "shape: (1_171, 3)\n",
       "┌────────────────────┬────────┬────────────────┐\n",
       "│ Team               ┆ TeamID ┆ TeamName       │\n",
       "│ ---                ┆ ---    ┆ ---            │\n",
       "│ str                ┆ i16    ┆ str            │\n",
       "╞════════════════════╪════════╪════════════════╡\n",
       "│ a&m-corpus chris   ┆ 3394   ┆ TAM C. Christi │\n",
       "│ a&m-corpus christi ┆ 3394   ┆ TAM C. Christi │\n",
       "│ abilene chr        ┆ 3101   ┆ Abilene Chr    │\n",
       "│ abilene christian  ┆ 3101   ┆ Abilene Chr    │\n",
       "│ abilene-christian  ┆ 3101   ┆ Abilene Chr    │\n",
       "│ …                  ┆ …      ┆ …              │\n",
       "│ youngstown st      ┆ 3464   ┆ Youngstown St  │\n",
       "│ youngstown st.     ┆ 3464   ┆ Youngstown St  │\n",
       "│ youngstown state   ┆ 3464   ┆ Youngstown St  │\n",
       "│ youngstown-st      ┆ 3464   ┆ Youngstown St  │\n",
       "│ youngstown-state   ┆ 3464   ┆ Youngstown St  │\n",
       "└────────────────────┴────────┴────────────────┘"
      ]
     },
     "execution_count": 282,
     "metadata": {},
     "output_type": "execute_result"
    }
   ],
   "source": [
    "module_dir = pathlib.Path('.').absolute()\n",
    "kaggle_womens_names_df = pl.read_csv(\n",
    "    module_dir.parent / \"data/kaggle_2025/raw/WTeamSpellings.csv\",\n",
    "    schema={\"Team\": pl.Utf8, \"TeamID\": pl.Int16},\n",
    ").join(\n",
    "    pl.read_csv(module_dir.parent / \"data/kaggle_2025/raw/WTeams.csv\").select(\n",
    "        pl.col(\"TeamID\"), pl.col(\"TeamName\")\n",
    "    ),\n",
    "    on=\"TeamID\",\n",
    ")\n",
    "kaggle_womens_names_df"
   ]
  },
  {
   "cell_type": "code",
   "execution_count": 283,
   "id": "4005021d-e2ed-431f-b54d-82112cb503fa",
   "metadata": {},
   "outputs": [
    {
     "name": "stdout",
     "output_type": "stream",
     "text": [
      "{'ut rio grande valley', 'mississippi valley st.', 'arkansas pine bluff', 'southeast missouri st.', 'tarleton st.', 'queens', 'illinois chicago', 'texas a&m commerce', 'tennessee martin', 'bethune cookman', 'louisiana monroe', 'saint francis', 'cal st. bakersfield'}\n"
     ]
    },
    {
     "data": {
      "text/html": [
       "<div><style>\n",
       ".dataframe > thead > tr,\n",
       ".dataframe > tbody > tr {\n",
       "  text-align: right;\n",
       "  white-space: pre-wrap;\n",
       "}\n",
       "</style>\n",
       "<small>shape: (349, 4)</small><table border=\"1\" class=\"dataframe\"><thead><tr><th>Team</th><th>TeamID</th><th>adjoe</th><th>adjde</th></tr><tr><td>str</td><td>i16</td><td>f32</td><td>f32</td></tr></thead><tbody><tr><td>&quot;Abilene Chr&quot;</td><td>3101</td><td>93.199997</td><td>94.599998</td></tr><tr><td>&quot;Air Force&quot;</td><td>3102</td><td>93.199997</td><td>92.699997</td></tr><tr><td>&quot;Akron&quot;</td><td>3103</td><td>87.699997</td><td>101.800003</td></tr><tr><td>&quot;Alabama&quot;</td><td>3104</td><td>113.800003</td><td>79.599998</td></tr><tr><td>&quot;Alabama A&amp;M&quot;</td><td>3105</td><td>86.699997</td><td>95.400002</td></tr><tr><td>&hellip;</td><td>&hellip;</td><td>&hellip;</td><td>&hellip;</td></tr><tr><td>&quot;Wright St&quot;</td><td>3460</td><td>86.0</td><td>103.0</td></tr><tr><td>&quot;Wyoming&quot;</td><td>3461</td><td>99.900002</td><td>86.0</td></tr><tr><td>&quot;Xavier&quot;</td><td>3462</td><td>81.900002</td><td>87.900002</td></tr><tr><td>&quot;Yale&quot;</td><td>3463</td><td>81.199997</td><td>101.699997</td></tr><tr><td>&quot;Youngstown St&quot;</td><td>3464</td><td>80.5</td><td>96.5</td></tr></tbody></table></div>"
      ],
      "text/plain": [
       "shape: (349, 4)\n",
       "┌───────────────┬────────┬────────────┬────────────┐\n",
       "│ Team          ┆ TeamID ┆ adjoe      ┆ adjde      │\n",
       "│ ---           ┆ ---    ┆ ---        ┆ ---        │\n",
       "│ str           ┆ i16    ┆ f32        ┆ f32        │\n",
       "╞═══════════════╪════════╪════════════╪════════════╡\n",
       "│ Abilene Chr   ┆ 3101   ┆ 93.199997  ┆ 94.599998  │\n",
       "│ Air Force     ┆ 3102   ┆ 93.199997  ┆ 92.699997  │\n",
       "│ Akron         ┆ 3103   ┆ 87.699997  ┆ 101.800003 │\n",
       "│ Alabama       ┆ 3104   ┆ 113.800003 ┆ 79.599998  │\n",
       "│ Alabama A&M   ┆ 3105   ┆ 86.699997  ┆ 95.400002  │\n",
       "│ …             ┆ …      ┆ …          ┆ …          │\n",
       "│ Wright St     ┆ 3460   ┆ 86.0       ┆ 103.0      │\n",
       "│ Wyoming       ┆ 3461   ┆ 99.900002  ┆ 86.0       │\n",
       "│ Xavier        ┆ 3462   ┆ 81.900002  ┆ 87.900002  │\n",
       "│ Yale          ┆ 3463   ┆ 81.199997  ┆ 101.699997 │\n",
       "│ Youngstown St ┆ 3464   ┆ 80.5       ┆ 96.5       │\n",
       "└───────────────┴────────┴────────────┴────────────┘"
      ]
     },
     "execution_count": 283,
     "metadata": {},
     "output_type": "execute_result"
    }
   ],
   "source": [
    "barttorvik_df = (\n",
    "    pl.read_parquet('../data/barttorvik/raw/womens/barttorvik_2025.parquet')\n",
    "    .with_columns(\n",
    "        pl.col(\"team\").str.to_lowercase().alias(\"team\")\n",
    "    )\n",
    "    .pipe(_merge_with_kaggle_names, kaggle_womens_names_df, \"team\")\n",
    "    .select(\n",
    "        pl.col('team').alias('Team'),\n",
    "        pl.col('team_id').alias('TeamID'),\n",
    "        pl.col('adjoe'),\n",
    "        pl.col('adjde')\n",
    "    )\n",
    ")\n",
    "barttorvik_df"
   ]
  },
  {
   "cell_type": "code",
   "execution_count": 284,
   "id": "2f39216e-5b8b-41c2-80a2-d22c81ecff10",
   "metadata": {},
   "outputs": [],
   "source": [
    "cleaned_df = barttorvik_df\n",
    "# cleaned_df.write_csv('../data/kaggle_2025/cleaned/womens/barttorvik.csv')\n",
    "# cleaned_df.write_parquet('../data/kaggle_2025/cleaned/womens/barttorvik.parquet')"
   ]
  },
  {
   "cell_type": "code",
   "execution_count": null,
   "id": "ebe6e39e-4a98-41ab-8df1-0598296eb7ea",
   "metadata": {},
   "outputs": [],
   "source": []
  },
  {
   "cell_type": "code",
   "execution_count": null,
   "id": "3fb9556c-0d6b-4669-9dc8-64c76c0b2327",
   "metadata": {},
   "outputs": [],
   "source": []
  },
  {
   "cell_type": "code",
   "execution_count": null,
   "id": "bfd7cf3e-db6a-412f-a4bd-78f7f3ffd0c7",
   "metadata": {},
   "outputs": [],
   "source": []
  },
  {
   "cell_type": "code",
   "execution_count": null,
   "id": "53be2db3-fcbe-4c83-adab-5fc393b4ae29",
   "metadata": {},
   "outputs": [],
   "source": []
  },
  {
   "cell_type": "code",
   "execution_count": null,
   "id": "d64ccead-f063-4c6a-9f30-94063e7b44f5",
   "metadata": {},
   "outputs": [],
   "source": []
  },
  {
   "cell_type": "code",
   "execution_count": null,
   "id": "49e89323-5a99-489a-9c5f-9607db27f649",
   "metadata": {},
   "outputs": [],
   "source": []
  }
 ],
 "metadata": {
  "kernelspec": {
   "display_name": "Python 3 (ipykernel)",
   "language": "python",
   "name": "python3"
  },
  "language_info": {
   "codemirror_mode": {
    "name": "ipython",
    "version": 3
   },
   "file_extension": ".py",
   "mimetype": "text/x-python",
   "name": "python",
   "nbconvert_exporter": "python",
   "pygments_lexer": "ipython3",
   "version": "3.12.7"
  }
 },
 "nbformat": 4,
 "nbformat_minor": 5
}
